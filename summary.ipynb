{
  "cells": [
    {
      "cell_type": "code",
      "execution_count": null,
      "metadata": {
        "id": "EITNdX18KfzN"
      },
      "outputs": [],
      "source": [
        "import requests\n",
        "from bs4 import BeautifulSoup\n",
        "import urllib.request\n",
        "from transformers import AutoTokenizer, AutoModelForCausalLM, pipeline, AutoModel, BartForConditionalGeneration\n",
        "import os\n",
        "import glob\n",
        "from pathlib import Path\n"
      ]
    },
    {
      "cell_type": "code",
      "execution_count": null,
      "metadata": {
        "id": "ZeGiOITN9HG5"
      },
      "outputs": [],
      "source": [
        "\"\"\"\n",
        "Scraping articles\n",
        "\"\"\"\n",
        "# link for extract html data\n",
        "def getdata(url):\n",
        "    r = requests.get(url)\n",
        "    return r.text\n",
        "links = ['https://www.tomshardware.com/features/nvidia-ada-lovelace-and-geforce-rtx-40-series-everything-we-know',\n",
        "         'https://www.tomshardware.com/news/amd-intros-zen-4-ryzen-7000-cpus-and-600-series-chipset-up-to-55-ghz-15-performance-rdna-2-igpus-pcie-5-ddr5',\n",
        "         'https://www.tomshardware.com/news/intel-core-i9-12900ks-cpu-review',\n",
        "         'https://www.tomshardware.com/news/nvidia-geforce-rtx-3090-ti-launches-at-1999-dollars',\n",
        "         'https://www.tomshardware.com/reviews/msi-z690-edge-wifi-ddr4-review',\n",
        "         'https://www.tomshardware.com/news/amd-expo-memory-oc-feature-confirmed-in-msi-computex-presentation',\n",
        "         'https://www.tomshardware.com/reviews/lenovo-legion-5i-pro-gen-7',\n",
        "         'https://www.tomshardware.com/reviews/samsung-t7-shield-portable-ssd-review',\n",
        "         'https://www.tomshardware.com/reviews/sabrent-rocket-4-plus-8tb-ssd-review',\n",
        "         'https://www.tomshardware.com/reviews/asus-zenbook-s-13-oled-ryzen-6800u']\n",
        "for i,link in enumerate(links):\n",
        "  df=open('article'+str(i)+'.txt','w')\n",
        "  # providing url\n",
        "  url = link\n",
        "  # opening the url for reading\n",
        "  html = urllib.request.urlopen(url)\n",
        "  # parsing the html file\n",
        "  htmlParse = BeautifulSoup(html, 'html.parser')\n",
        "  # getting all the paragraphs\n",
        "  for para in htmlParse.find_all(\"p\"):\n",
        "      df.write( para.get_text())\n",
        "      df.write('\\n')\n",
        "  df.close()"
      ]
    },
    {
      "cell_type": "code",
      "execution_count": 24,
      "metadata": {
        "id": "bWOuMCBQYCHQ"
      },
      "outputs": [],
      "source": [
        "\"\"\"\n",
        "In order to perform the summarization we need to load the objects:\n",
        "Tokenizer and the pre trained model which are in our case the gpt-j-6B.\n",
        "\"\"\"\n",
        "tokenizer  = AutoTokenizer.from_pretrained(\"sshleifer/distilbart-cnn-12-6\")# \"EleutherAI/gpt-j-6B\"\n",
        "model      = BartForConditionalGeneration.from_pretrained(\"sshleifer/distilbart-cnn-12-6\")# \"EleutherAI/gpt-j-6B\"\n",
        "summarizer = pipeline('summarization',tokenizer=tokenizer,model=model)"
      ]
    },
    {
      "cell_type": "code",
      "execution_count": 28,
      "metadata": {
        "id": "I4SylAKts0-e"
      },
      "outputs": [],
      "source": [
        "\"\"\"\n",
        "Summarization\n",
        "\"\"\"\n",
        "def return_summary(summarizer):\n",
        "    articles  = [f for f in glob.glob(\"*.txt\")]\n",
        "    all_summaries  = open(\"all_summaries.txt\",'w')\n",
        "    for article in articles:\n",
        "      try:\n",
        "        # read the file\n",
        "        text = Path(article).read_text()\n",
        "        # call summarizer\n",
        "        summary_text = summarizer(text,do_sample=False)\n",
        "        # save sammury\n",
        "        all_summaries.write(summary_text[0]['summary_text'])\n",
        "        all_summaries.write('\\n')\n",
        "      except:\n",
        "        continue\n",
        "    all_summaries.close()\n",
        "    \"\"\"\n",
        "    Final results\n",
        "    \"\"\"\n",
        "    # read the file\n",
        "    results_text_input = Path(\"all_summaries.txt\").read_text()\n",
        "    summary_text_results = summarizer(results_text_input,do_sample=False)\n",
        "    return summary_text_results[0]['summary_text']"
      ]
    },
    {
      "cell_type": "code",
      "execution_count": 31,
      "metadata": {
        "colab": {
          "base_uri": "https://localhost:8080/"
        },
        "id": "o5gSz-zDiPFk",
        "outputId": "0f684e38-790e-40ad-ba8b-9247c03ef5c9"
      },
      "outputs": [
        {
          "name": "stderr",
          "output_type": "stream",
          "text": [
            "Your max_length is set to 142, but you input_length is only 3. You might consider decreasing max_length manually, e.g. summarizer('...', max_length=1)\n",
            "Your max_length is set to 142, but you input_length is only 136. You might consider decreasing max_length manually, e.g. summarizer('...', max_length=68)\n"
          ]
        }
      ],
      "source": [
        "summary = return_summary(summarizer)"
      ]
    },
    {
      "cell_type": "code",
      "execution_count": 32,
      "metadata": {
        "colab": {
          "base_uri": "https://localhost:8080/"
        },
        "id": "_USSeEFTinKg",
        "outputId": "7ca281b0-ea69-4b4a-e195-a3f114ea0e38"
      },
      "outputs": [
        {
          "name": "stdout",
          "output_type": "stream",
          "text": [
            " AMD EXPO technology is AMD's alternative to Intel XMP 3.0 . AMD has asked that the slide mentioning EXPO be removed from places where it has been published . MSI revealed that Raphael improves on its predecessor with support for memory overclocking . Visit CNN iReport.com/Travel next Wednesday for a new gallery of snapshots .\n"
          ]
        }
      ],
      "source": [
        "print(summary)"
      ]
    }
  ],
  "metadata": {
    "colab": {
      "collapsed_sections": [],
      "name": "summary",
      "provenance": []
    },
    "interpreter": {
      "hash": "4404e2c3a38ac2408a0c1f57a1d0c1d834388abd408e351cd647a394693907ab"
    },
    "kernelspec": {
      "display_name": "Python 3.10.4 64-bit (windows store)",
      "language": "python",
      "name": "python3"
    },
    "language_info": {
      "codemirror_mode": {
        "name": "ipython",
        "version": 3
      },
      "file_extension": ".py",
      "mimetype": "text/x-python",
      "name": "python",
      "nbconvert_exporter": "python",
      "pygments_lexer": "ipython3",
      "version": "3.10.4"
    }
  },
  "nbformat": 4,
  "nbformat_minor": 0
}
